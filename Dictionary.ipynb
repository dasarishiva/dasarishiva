{
 "cells": [
  {
   "cell_type": "code",
   "execution_count": 1,
   "metadata": {},
   "outputs": [
    {
     "name": "stdout",
     "output_type": "stream",
     "text": [
      " A and B\n",
      "HelloWorld\n"
     ]
    }
   ],
   "source": [
    "n=input(\" \")\n",
    "my_dict=dict({\"A\":\"Hello\",\"B\":\"World\",\"C\":\"Buddy\"})\n",
    "my_dict1=dict({\"A\":\"Hello\",\"C\":\"Buddy\",\"D\":\"Welcome\"})\n",
    "#print(n[2])\n",
    "\n",
    "if n==\"A and B\" or n==\"B and A\":\n",
    "    print(list(my_dict.values())[0],end=\"\")\n",
    "    print(list(my_dict.values())[1])\n",
    "if n==\"B and C\" or n==\"C and B\":\n",
    "    print(list(my_dict.values())[1],end=\"\")\n",
    "    print(list(my_dict.values())[2])\n",
    "if n==\"A and C\" or n==\"C and A\":\n",
    "    print(list(my_dict.values())[0],end=\"\")\n",
    "    print(list(my_dict.values())[2])\n",
    "if n==\"D or B\":\n",
    "    print(list(my_dict.values())[1])\n",
    "if n==\"A or B\":\n",
    "    print(list(my_dict.values())[0])\n",
    "if n==\"B or A\":\n",
    "    print(list(my_dict.values())[1])\n",
    "if n==\"B or C\":\n",
    "    print(list(my_dict.values())[1])\n",
    "if n==\"C or B\":\n",
    "    print(list(my_dict.values())[2])\n",
    "if n==\"A or C\":\n",
    "    print(list(my_dict.values())[0])\n",
    "if n==\"C or A\":\n",
    "    print(list(my_dict.values())[2])\n",
    "if n==\"A and B and C\":\n",
    "    print(list(my_dict.values())[0],end=\"\")\n",
    "    print(list(my_dict.values())[1],end=\"\")\n",
    "    print(list(my_dict.values())[2])\n",
    "if n==\"A and (B or C)\":\n",
    "    print(list(my_dict.values())[0],end=\"\")\n",
    "    print(list(my_dict.values())[1],end=\"\")\n",
    "if n==\"A and (C or D)\":\n",
    "    print(list(my_dict.values())[0],end=\"\")\n",
    "    print(list(my_dict.values())[2],end=\"\")\n",
    "if n==\"A and (B or C) and D\":\n",
    "    print(list(my_dict1.values())[0],end=\"\")\n",
    "    print(list(my_dict1.values())[1],end=\"\")\n",
    "    print(list(my_dict1.values())[2])\n"
   ]
  },
  {
   "cell_type": "code",
   "execution_count": null,
   "metadata": {},
   "outputs": [],
   "source": []
  }
 ],
 "metadata": {
  "kernelspec": {
   "display_name": "Python 3",
   "language": "python",
   "name": "python3"
  },
  "language_info": {
   "codemirror_mode": {
    "name": "ipython",
    "version": 3
   },
   "file_extension": ".py",
   "mimetype": "text/x-python",
   "name": "python",
   "nbconvert_exporter": "python",
   "pygments_lexer": "ipython3",
   "version": "3.7.4"
  }
 },
 "nbformat": 4,
 "nbformat_minor": 2
}
